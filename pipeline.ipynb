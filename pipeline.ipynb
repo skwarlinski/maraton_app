{
 "cells": [
  {
   "cell_type": "code",
   "execution_count": 2,
   "id": "9552b8ee",
   "metadata": {},
   "outputs": [],
   "source": [
    "!pip install --quiet boto3 pandas streamlit openai python-dotenv langfuse pycaret numpy scikit-learn"
   ]
  },
  {
   "cell_type": "markdown",
   "id": "5c99bc2e",
   "metadata": {},
   "source": [
    "# PIPELINE"
   ]
  },
  {
   "cell_type": "markdown",
   "id": "65a90c99",
   "metadata": {},
   "source": [
    "📌 Importy"
   ]
  },
  {
   "cell_type": "code",
   "execution_count": 3,
   "id": "6b70748b",
   "metadata": {},
   "outputs": [
    {
     "data": {
      "text/plain": [
       "True"
      ]
     },
     "execution_count": 3,
     "metadata": {},
     "output_type": "execute_result"
    }
   ],
   "source": [
    "from dotenv import load_dotenv\n",
    "import os\n",
    "import pandas as pd\n",
    "import boto3\n",
    "from io import BytesIO\n",
    "from sklearn.preprocessing import LabelEncoder\n",
    "from pycaret.regression import setup, compare_models, tune_model, finalize_model, save_model\n",
    "\n",
    "load_dotenv()"
   ]
  },
  {
   "cell_type": "markdown",
   "id": "9b222359",
   "metadata": {},
   "source": [
    "📌 Połączenie z DigitalOcean Spaces"
   ]
  },
  {
   "cell_type": "code",
   "execution_count": 4,
   "id": "3b7f4e6b",
   "metadata": {},
   "outputs": [],
   "source": [
    "s3 = boto3.client(\n",
    "    's3',\n",
    "    aws_access_key_id=os.getenv('AWS_ACCESS_KEY_ID'),\n",
    "    aws_secret_access_key=os.getenv('AWS_SECRET_ACCESS_KEY'),\n",
    "    endpoint_url=os.getenv('AWS_ENDPOINT_URL')\n",
    "    )\n"
   ]
  },
  {
   "cell_type": "code",
   "execution_count": 6,
   "id": "472fa408",
   "metadata": {},
   "outputs": [],
   "source": [
    "BUCKET_NAME = \"maraton_2023\""
   ]
  },
  {
   "cell_type": "markdown",
   "id": "13ff7867",
   "metadata": {},
   "source": [
    "📌 Wysłanie pliku do DigitalOcean Spaces"
   ]
  },
  {
   "cell_type": "code",
   "execution_count": 7,
   "id": "edc9fbd1",
   "metadata": {},
   "outputs": [
    {
     "name": "stdout",
     "output_type": "stream",
     "text": [
      "Plik został wysłany.\n"
     ]
    }
   ],
   "source": [
    "s3 = boto3.client(\n",
    "    's3',\n",
    "    aws_access_key_id=os.getenv('AWS_ACCESS_KEY_ID'),\n",
    "    aws_secret_access_key=os.getenv('AWS_SECRET_ACCESS_KEY'),\n",
    "    endpoint_url=os.getenv('AWS_ENDPOINT_URL')\n",
    ")\n",
    "\n",
    "file_path = 'maraton_2023.csv'\n",
    "\n",
    "object_name = 'maraton_2023.csv'\n",
    "\n",
    "with open(file_path, 'rb') as f:\n",
    "    s3.upload_fileobj(f, BUCKET_NAME, object_name)\n",
    "\n",
    "print(\"Plik został wysłany.\")"
   ]
  },
  {
   "cell_type": "markdown",
   "id": "c0c1b24a",
   "metadata": {},
   "source": [
    "📌 Wczytanie CSV jako DataFrame"
   ]
  },
  {
   "cell_type": "code",
   "execution_count": 8,
   "id": "cdbaa981",
   "metadata": {},
   "outputs": [
    {
     "name": "stdout",
     "output_type": "stream",
     "text": [
      "Wczytano dane\n"
     ]
    },
    {
     "data": {
      "text/html": [
       "<div>\n",
       "<style scoped>\n",
       "    .dataframe tbody tr th:only-of-type {\n",
       "        vertical-align: middle;\n",
       "    }\n",
       "\n",
       "    .dataframe tbody tr th {\n",
       "        vertical-align: top;\n",
       "    }\n",
       "\n",
       "    .dataframe thead th {\n",
       "        text-align: right;\n",
       "    }\n",
       "</style>\n",
       "<table border=\"1\" class=\"dataframe\">\n",
       "  <thead>\n",
       "    <tr style=\"text-align: right;\">\n",
       "      <th></th>\n",
       "      <th>Miejsce</th>\n",
       "      <th>Numer startowy</th>\n",
       "      <th>Imię</th>\n",
       "      <th>Nazwisko</th>\n",
       "      <th>Miasto</th>\n",
       "      <th>Kraj</th>\n",
       "      <th>Drużyna</th>\n",
       "      <th>Płeć</th>\n",
       "      <th>Płeć Miejsce</th>\n",
       "      <th>Kategoria wiekowa</th>\n",
       "      <th>...</th>\n",
       "      <th>10 km Tempo</th>\n",
       "      <th>15 km Czas</th>\n",
       "      <th>15 km Miejsce Open</th>\n",
       "      <th>15 km Tempo</th>\n",
       "      <th>20 km Czas</th>\n",
       "      <th>20 km Miejsce Open</th>\n",
       "      <th>20 km Tempo</th>\n",
       "      <th>Tempo Stabilność</th>\n",
       "      <th>Czas</th>\n",
       "      <th>Tempo</th>\n",
       "    </tr>\n",
       "  </thead>\n",
       "  <tbody>\n",
       "    <tr>\n",
       "      <th>0</th>\n",
       "      <td>1.0</td>\n",
       "      <td>1787</td>\n",
       "      <td>TOMASZ</td>\n",
       "      <td>GRYCKO</td>\n",
       "      <td>NaN</td>\n",
       "      <td>POL</td>\n",
       "      <td>UKS BLIZA WŁADYSŁAWOWO</td>\n",
       "      <td>M</td>\n",
       "      <td>1.0</td>\n",
       "      <td>M30</td>\n",
       "      <td>...</td>\n",
       "      <td>2.926667</td>\n",
       "      <td>00:44:47</td>\n",
       "      <td>1.0</td>\n",
       "      <td>3.106667</td>\n",
       "      <td>01:01:43</td>\n",
       "      <td>1.0</td>\n",
       "      <td>3.386667</td>\n",
       "      <td>0.031400</td>\n",
       "      <td>01:04:59</td>\n",
       "      <td>3.080509</td>\n",
       "    </tr>\n",
       "    <tr>\n",
       "      <th>1</th>\n",
       "      <td>2.0</td>\n",
       "      <td>3</td>\n",
       "      <td>ARKADIUSZ</td>\n",
       "      <td>GARDZIELEWSKI</td>\n",
       "      <td>WROCŁAW</td>\n",
       "      <td>POL</td>\n",
       "      <td>ARKADIUSZGARDZIELEWSKI.PL</td>\n",
       "      <td>M</td>\n",
       "      <td>2.0</td>\n",
       "      <td>M30</td>\n",
       "      <td>...</td>\n",
       "      <td>2.983333</td>\n",
       "      <td>00:45:26</td>\n",
       "      <td>2.0</td>\n",
       "      <td>3.143333</td>\n",
       "      <td>01:03:08</td>\n",
       "      <td>2.0</td>\n",
       "      <td>3.540000</td>\n",
       "      <td>0.038000</td>\n",
       "      <td>01:06:23</td>\n",
       "      <td>3.146875</td>\n",
       "    </tr>\n",
       "    <tr>\n",
       "      <th>2</th>\n",
       "      <td>3.0</td>\n",
       "      <td>3832</td>\n",
       "      <td>KRZYSZTOF</td>\n",
       "      <td>HADAS</td>\n",
       "      <td>POZNAŃ</td>\n",
       "      <td>POL</td>\n",
       "      <td>NaN</td>\n",
       "      <td>M</td>\n",
       "      <td>3.0</td>\n",
       "      <td>M20</td>\n",
       "      <td>...</td>\n",
       "      <td>3.123333</td>\n",
       "      <td>00:47:34</td>\n",
       "      <td>3.0</td>\n",
       "      <td>3.236667</td>\n",
       "      <td>01:05:09</td>\n",
       "      <td>3.0</td>\n",
       "      <td>3.516667</td>\n",
       "      <td>0.024067</td>\n",
       "      <td>01:08:24</td>\n",
       "      <td>3.242475</td>\n",
       "    </tr>\n",
       "    <tr>\n",
       "      <th>3</th>\n",
       "      <td>4.0</td>\n",
       "      <td>416</td>\n",
       "      <td>DAMIAN</td>\n",
       "      <td>DYDUCH</td>\n",
       "      <td>KĘPNO</td>\n",
       "      <td>POL</td>\n",
       "      <td>AZS POLITECHNIKA OPOLSKA</td>\n",
       "      <td>M</td>\n",
       "      <td>4.0</td>\n",
       "      <td>M30</td>\n",
       "      <td>...</td>\n",
       "      <td>3.196667</td>\n",
       "      <td>00:48:49</td>\n",
       "      <td>5.0</td>\n",
       "      <td>3.330000</td>\n",
       "      <td>01:06:54</td>\n",
       "      <td>4.0</td>\n",
       "      <td>3.616667</td>\n",
       "      <td>0.025467</td>\n",
       "      <td>01:10:16</td>\n",
       "      <td>3.330963</td>\n",
       "    </tr>\n",
       "    <tr>\n",
       "      <th>4</th>\n",
       "      <td>5.0</td>\n",
       "      <td>8476</td>\n",
       "      <td>KAMIL</td>\n",
       "      <td>MAŃKOWSKI</td>\n",
       "      <td>MIRKÓW</td>\n",
       "      <td>POL</td>\n",
       "      <td>PARKRUN WROCŁAW</td>\n",
       "      <td>M</td>\n",
       "      <td>5.0</td>\n",
       "      <td>M20</td>\n",
       "      <td>...</td>\n",
       "      <td>3.276667</td>\n",
       "      <td>00:49:31</td>\n",
       "      <td>7.0</td>\n",
       "      <td>3.386667</td>\n",
       "      <td>01:07:27</td>\n",
       "      <td>5.0</td>\n",
       "      <td>3.586667</td>\n",
       "      <td>0.023000</td>\n",
       "      <td>01:10:27</td>\n",
       "      <td>3.339654</td>\n",
       "    </tr>\n",
       "  </tbody>\n",
       "</table>\n",
       "<p>5 rows × 27 columns</p>\n",
       "</div>"
      ],
      "text/plain": [
       "   Miejsce  Numer startowy       Imię       Nazwisko   Miasto Kraj  \\\n",
       "0      1.0            1787     TOMASZ         GRYCKO      NaN  POL   \n",
       "1      2.0               3  ARKADIUSZ  GARDZIELEWSKI  WROCŁAW  POL   \n",
       "2      3.0            3832  KRZYSZTOF          HADAS   POZNAŃ  POL   \n",
       "3      4.0             416     DAMIAN         DYDUCH    KĘPNO  POL   \n",
       "4      5.0            8476      KAMIL      MAŃKOWSKI   MIRKÓW  POL   \n",
       "\n",
       "                     Drużyna Płeć  Płeć Miejsce Kategoria wiekowa  ...  \\\n",
       "0     UKS BLIZA WŁADYSŁAWOWO    M           1.0               M30  ...   \n",
       "1  ARKADIUSZGARDZIELEWSKI.PL    M           2.0               M30  ...   \n",
       "2                        NaN    M           3.0               M20  ...   \n",
       "3   AZS POLITECHNIKA OPOLSKA    M           4.0               M30  ...   \n",
       "4            PARKRUN WROCŁAW    M           5.0               M20  ...   \n",
       "\n",
       "   10 km Tempo  15 km Czas 15 km Miejsce Open  15 km Tempo  20 km Czas  \\\n",
       "0     2.926667    00:44:47                1.0     3.106667    01:01:43   \n",
       "1     2.983333    00:45:26                2.0     3.143333    01:03:08   \n",
       "2     3.123333    00:47:34                3.0     3.236667    01:05:09   \n",
       "3     3.196667    00:48:49                5.0     3.330000    01:06:54   \n",
       "4     3.276667    00:49:31                7.0     3.386667    01:07:27   \n",
       "\n",
       "  20 km Miejsce Open  20 km Tempo  Tempo Stabilność      Czas     Tempo  \n",
       "0                1.0     3.386667          0.031400  01:04:59  3.080509  \n",
       "1                2.0     3.540000          0.038000  01:06:23  3.146875  \n",
       "2                3.0     3.516667          0.024067  01:08:24  3.242475  \n",
       "3                4.0     3.616667          0.025467  01:10:16  3.330963  \n",
       "4                5.0     3.586667          0.023000  01:10:27  3.339654  \n",
       "\n",
       "[5 rows x 27 columns]"
      ]
     },
     "metadata": {},
     "output_type": "display_data"
    }
   ],
   "source": [
    "response = s3.get_object(Bucket=BUCKET_NAME, Key=object_name)\n",
    "csv_bytes = response['Body'].read()\n",
    "\n",
    "df = pd.read_csv(BytesIO(csv_bytes), sep=';', encoding='utf-8')\n",
    "\n",
    "print(\"Wczytano dane\")\n",
    "display(df.head())"
   ]
  },
  {
   "cell_type": "markdown",
   "id": "8d7a927e",
   "metadata": {},
   "source": [
    "📌 Czyszczenie danych"
   ]
  },
  {
   "cell_type": "code",
   "execution_count": 9,
   "id": "c08d7147",
   "metadata": {},
   "outputs": [],
   "source": [
    "df.columns = df.columns.str.strip()\n",
    "df = df[['Płeć', 'Rocznik', '5 km Tempo', 'Czas']].dropna()"
   ]
  },
  {
   "cell_type": "markdown",
   "id": "b747fa27",
   "metadata": {},
   "source": [
    "📌 Pomocnicza funkcja konwertująca tempo/czas na sekundy"
   ]
  },
  {
   "cell_type": "code",
   "execution_count": 10,
   "id": "0210b169",
   "metadata": {},
   "outputs": [],
   "source": [
    "def convert_time_to_seconds(time):\n",
    "    if pd.isnull(time) or time in ['DNS', 'DNF']:\n",
    "        return None\n",
    "    parts = str(time).split(':')\n",
    "    return int(parts[0]) * 3600 + int(parts[1]) * 60 + int(parts[2])"
   ]
  },
  {
   "cell_type": "code",
   "execution_count": 11,
   "id": "5cd83300",
   "metadata": {},
   "outputs": [],
   "source": [
    "def minutes_to_seconds(minutes):\n",
    "    try:\n",
    "        return float(minutes) * 60\n",
    "    except:\n",
    "        return None"
   ]
  },
  {
   "cell_type": "markdown",
   "id": "ece60f1b",
   "metadata": {},
   "source": [
    "📌 Przekształcenie czasu i tempa na sekundy"
   ]
  },
  {
   "cell_type": "code",
   "execution_count": 12,
   "id": "45e6a91c",
   "metadata": {},
   "outputs": [],
   "source": [
    "df['tempo_sec'] = df['5 km Tempo'].apply(minutes_to_seconds)\n",
    "df['czas_sec'] = df['Czas'].apply(convert_time_to_seconds)"
   ]
  },
  {
   "cell_type": "markdown",
   "id": "28c93856",
   "metadata": {},
   "source": [
    "📌 Interpolacja brakujących wartości"
   ]
  },
  {
   "cell_type": "code",
   "execution_count": 13,
   "id": "38038436",
   "metadata": {},
   "outputs": [],
   "source": [
    "df['tempo_sec'] = df['tempo_sec'].interpolate()\n",
    "df['czas_sec'] = df['czas_sec'].interpolate()"
   ]
  },
  {
   "cell_type": "markdown",
   "id": "45f1ea3d",
   "metadata": {},
   "source": [
    "📌 Obliczenia Wieku"
   ]
  },
  {
   "cell_type": "code",
   "execution_count": 14,
   "id": "04bd8b5b",
   "metadata": {},
   "outputs": [],
   "source": [
    "df['wiek'] = 2023 - df['Rocznik']"
   ]
  },
  {
   "cell_type": "markdown",
   "id": "d99e69e1",
   "metadata": {},
   "source": [
    "📌 Encoding Płci"
   ]
  },
  {
   "cell_type": "code",
   "execution_count": 15,
   "id": "7eee28ad",
   "metadata": {},
   "outputs": [],
   "source": [
    "le = LabelEncoder()\n",
    "df['płeć_encoded'] = le.fit_transform(df['Płeć'])"
   ]
  },
  {
   "cell_type": "markdown",
   "id": "b583af7c",
   "metadata": {},
   "source": [
    "📌 Finalny zbiór danych do modelu"
   ]
  },
  {
   "cell_type": "code",
   "execution_count": 16,
   "id": "442cf218",
   "metadata": {},
   "outputs": [],
   "source": [
    "df_model = df[['płeć_encoded', 'wiek', 'tempo_sec', 'czas_sec']].dropna()"
   ]
  },
  {
   "cell_type": "markdown",
   "id": "b85a72c9",
   "metadata": {},
   "source": [
    "📌 Inicjalizacja środowiska PyCaret"
   ]
  },
  {
   "cell_type": "code",
   "execution_count": 39,
   "id": "83c6fbbf",
   "metadata": {},
   "outputs": [],
   "source": [
    "exp = setup(\n",
    "    data=df_model,\n",
    "    target='czas_sec',\n",
    "    session_id=123,\n",
    "    verbose=False,\n",
    "    fold=5\n",
    ")"
   ]
  },
  {
   "cell_type": "markdown",
   "id": "e0ee9c83",
   "metadata": {},
   "source": [
    "📌 Porównanie modeli"
   ]
  },
  {
   "cell_type": "code",
   "execution_count": 42,
   "id": "9c2b1578",
   "metadata": {},
   "outputs": [
    {
     "data": {
      "text/html": [],
      "text/plain": [
       "<IPython.core.display.HTML object>"
      ]
     },
     "metadata": {},
     "output_type": "display_data"
    },
    {
     "data": {
      "text/html": [
       "<style type=\"text/css\">\n",
       "#T_09815 th {\n",
       "  text-align: left;\n",
       "}\n",
       "#T_09815_row0_col0, #T_09815_row0_col2, #T_09815_row0_col3, #T_09815_row0_col4, #T_09815_row0_col5, #T_09815_row1_col0, #T_09815_row1_col1, #T_09815_row1_col6, #T_09815_row2_col0, #T_09815_row2_col1, #T_09815_row2_col2, #T_09815_row2_col3, #T_09815_row2_col4, #T_09815_row2_col5, #T_09815_row2_col6, #T_09815_row3_col0, #T_09815_row3_col1, #T_09815_row3_col2, #T_09815_row3_col3, #T_09815_row3_col4, #T_09815_row3_col5, #T_09815_row3_col6, #T_09815_row4_col0, #T_09815_row4_col1, #T_09815_row4_col2, #T_09815_row4_col3, #T_09815_row4_col4, #T_09815_row4_col5, #T_09815_row4_col6, #T_09815_row5_col0, #T_09815_row5_col1, #T_09815_row5_col2, #T_09815_row5_col3, #T_09815_row5_col4, #T_09815_row5_col5, #T_09815_row5_col6, #T_09815_row6_col0, #T_09815_row6_col1, #T_09815_row6_col2, #T_09815_row6_col3, #T_09815_row6_col4, #T_09815_row6_col5, #T_09815_row6_col6, #T_09815_row7_col0, #T_09815_row7_col1, #T_09815_row7_col2, #T_09815_row7_col3, #T_09815_row7_col4, #T_09815_row7_col5, #T_09815_row7_col6, #T_09815_row8_col0, #T_09815_row8_col1, #T_09815_row8_col2, #T_09815_row8_col3, #T_09815_row8_col4, #T_09815_row8_col5, #T_09815_row8_col6, #T_09815_row9_col0, #T_09815_row9_col1, #T_09815_row9_col2, #T_09815_row9_col3, #T_09815_row9_col4, #T_09815_row9_col5, #T_09815_row9_col6, #T_09815_row10_col0, #T_09815_row10_col1, #T_09815_row10_col2, #T_09815_row10_col3, #T_09815_row10_col4, #T_09815_row10_col5, #T_09815_row10_col6, #T_09815_row11_col0, #T_09815_row11_col1, #T_09815_row11_col2, #T_09815_row11_col3, #T_09815_row11_col4, #T_09815_row11_col5, #T_09815_row11_col6, #T_09815_row12_col0, #T_09815_row12_col1, #T_09815_row12_col2, #T_09815_row12_col3, #T_09815_row12_col4, #T_09815_row12_col5, #T_09815_row12_col6, #T_09815_row13_col0, #T_09815_row13_col1, #T_09815_row13_col2, #T_09815_row13_col3, #T_09815_row13_col4, #T_09815_row13_col5, #T_09815_row13_col6, #T_09815_row14_col0, #T_09815_row14_col1, #T_09815_row14_col2, #T_09815_row14_col3, #T_09815_row14_col4, #T_09815_row14_col5, #T_09815_row14_col6, #T_09815_row15_col0, #T_09815_row15_col1, #T_09815_row15_col2, #T_09815_row15_col3, #T_09815_row15_col4, #T_09815_row15_col5, #T_09815_row15_col6, #T_09815_row16_col0, #T_09815_row16_col1, #T_09815_row16_col2, #T_09815_row16_col3, #T_09815_row16_col4, #T_09815_row16_col5, #T_09815_row16_col6, #T_09815_row17_col0, #T_09815_row17_col1, #T_09815_row17_col2, #T_09815_row17_col3, #T_09815_row17_col4, #T_09815_row17_col5, #T_09815_row17_col6 {\n",
       "  text-align: left;\n",
       "}\n",
       "#T_09815_row0_col1, #T_09815_row0_col6, #T_09815_row1_col2, #T_09815_row1_col3, #T_09815_row1_col4, #T_09815_row1_col5 {\n",
       "  text-align: left;\n",
       "  background-color: yellow;\n",
       "}\n",
       "#T_09815_row0_col7, #T_09815_row1_col7, #T_09815_row2_col7, #T_09815_row3_col7, #T_09815_row4_col7, #T_09815_row6_col7, #T_09815_row7_col7, #T_09815_row8_col7, #T_09815_row9_col7, #T_09815_row10_col7, #T_09815_row11_col7, #T_09815_row12_col7, #T_09815_row13_col7, #T_09815_row14_col7, #T_09815_row15_col7, #T_09815_row16_col7 {\n",
       "  text-align: left;\n",
       "  background-color: lightgrey;\n",
       "}\n",
       "#T_09815_row5_col7, #T_09815_row17_col7 {\n",
       "  text-align: left;\n",
       "  background-color: yellow;\n",
       "  background-color: lightgrey;\n",
       "}\n",
       "</style>\n",
       "<table id=\"T_09815\">\n",
       "  <thead>\n",
       "    <tr>\n",
       "      <th class=\"blank level0\" >&nbsp;</th>\n",
       "      <th id=\"T_09815_level0_col0\" class=\"col_heading level0 col0\" >Model</th>\n",
       "      <th id=\"T_09815_level0_col1\" class=\"col_heading level0 col1\" >MAE</th>\n",
       "      <th id=\"T_09815_level0_col2\" class=\"col_heading level0 col2\" >MSE</th>\n",
       "      <th id=\"T_09815_level0_col3\" class=\"col_heading level0 col3\" >RMSE</th>\n",
       "      <th id=\"T_09815_level0_col4\" class=\"col_heading level0 col4\" >R2</th>\n",
       "      <th id=\"T_09815_level0_col5\" class=\"col_heading level0 col5\" >RMSLE</th>\n",
       "      <th id=\"T_09815_level0_col6\" class=\"col_heading level0 col6\" >MAPE</th>\n",
       "      <th id=\"T_09815_level0_col7\" class=\"col_heading level0 col7\" >TT (Sec)</th>\n",
       "    </tr>\n",
       "  </thead>\n",
       "  <tbody>\n",
       "    <tr>\n",
       "      <th id=\"T_09815_level0_row0\" class=\"row_heading level0 row0\" >huber</th>\n",
       "      <td id=\"T_09815_row0_col0\" class=\"data row0 col0\" >Huber Regressor</td>\n",
       "      <td id=\"T_09815_row0_col1\" class=\"data row0 col1\" >285.3418</td>\n",
       "      <td id=\"T_09815_row0_col2\" class=\"data row0 col2\" >172684.4619</td>\n",
       "      <td id=\"T_09815_row0_col3\" class=\"data row0 col3\" >414.1519</td>\n",
       "      <td id=\"T_09815_row0_col4\" class=\"data row0 col4\" >0.8822</td>\n",
       "      <td id=\"T_09815_row0_col5\" class=\"data row0 col5\" >0.0511</td>\n",
       "      <td id=\"T_09815_row0_col6\" class=\"data row0 col6\" >0.0371</td>\n",
       "      <td id=\"T_09815_row0_col7\" class=\"data row0 col7\" >0.0120</td>\n",
       "    </tr>\n",
       "    <tr>\n",
       "      <th id=\"T_09815_level0_row1\" class=\"row_heading level0 row1\" >gbr</th>\n",
       "      <td id=\"T_09815_row1_col0\" class=\"data row1 col0\" >Gradient Boosting Regressor</td>\n",
       "      <td id=\"T_09815_row1_col1\" class=\"data row1 col1\" >286.2259</td>\n",
       "      <td id=\"T_09815_row1_col2\" class=\"data row1 col2\" >157074.2499</td>\n",
       "      <td id=\"T_09815_row1_col3\" class=\"data row1 col3\" >396.2246</td>\n",
       "      <td id=\"T_09815_row1_col4\" class=\"data row1 col4\" >0.8927</td>\n",
       "      <td id=\"T_09815_row1_col5\" class=\"data row1 col5\" >0.0502</td>\n",
       "      <td id=\"T_09815_row1_col6\" class=\"data row1 col6\" >0.0375</td>\n",
       "      <td id=\"T_09815_row1_col7\" class=\"data row1 col7\" >0.0400</td>\n",
       "    </tr>\n",
       "    <tr>\n",
       "      <th id=\"T_09815_level0_row2\" class=\"row_heading level0 row2\" >omp</th>\n",
       "      <td id=\"T_09815_row2_col0\" class=\"data row2 col0\" >Orthogonal Matching Pursuit</td>\n",
       "      <td id=\"T_09815_row2_col1\" class=\"data row2 col1\" >289.6171</td>\n",
       "      <td id=\"T_09815_row2_col2\" class=\"data row2 col2\" >171063.1387</td>\n",
       "      <td id=\"T_09815_row2_col3\" class=\"data row2 col3\" >412.0511</td>\n",
       "      <td id=\"T_09815_row2_col4\" class=\"data row2 col4\" >0.8834</td>\n",
       "      <td id=\"T_09815_row2_col5\" class=\"data row2 col5\" >0.0509</td>\n",
       "      <td id=\"T_09815_row2_col6\" class=\"data row2 col6\" >0.0379</td>\n",
       "      <td id=\"T_09815_row2_col7\" class=\"data row2 col7\" >0.0080</td>\n",
       "    </tr>\n",
       "    <tr>\n",
       "      <th id=\"T_09815_level0_row3\" class=\"row_heading level0 row3\" >en</th>\n",
       "      <td id=\"T_09815_row3_col0\" class=\"data row3 col0\" >Elastic Net</td>\n",
       "      <td id=\"T_09815_row3_col1\" class=\"data row3 col1\" >289.7193</td>\n",
       "      <td id=\"T_09815_row3_col2\" class=\"data row3 col2\" >171155.6548</td>\n",
       "      <td id=\"T_09815_row3_col3\" class=\"data row3 col3\" >412.1574</td>\n",
       "      <td id=\"T_09815_row3_col4\" class=\"data row3 col4\" >0.8833</td>\n",
       "      <td id=\"T_09815_row3_col5\" class=\"data row3 col5\" >0.0509</td>\n",
       "      <td id=\"T_09815_row3_col6\" class=\"data row3 col6\" >0.0379</td>\n",
       "      <td id=\"T_09815_row3_col7\" class=\"data row3 col7\" >0.3040</td>\n",
       "    </tr>\n",
       "    <tr>\n",
       "      <th id=\"T_09815_level0_row4\" class=\"row_heading level0 row4\" >lasso</th>\n",
       "      <td id=\"T_09815_row4_col0\" class=\"data row4 col0\" >Lasso Regression</td>\n",
       "      <td id=\"T_09815_row4_col1\" class=\"data row4 col1\" >289.7314</td>\n",
       "      <td id=\"T_09815_row4_col2\" class=\"data row4 col2\" >171166.8574</td>\n",
       "      <td id=\"T_09815_row4_col3\" class=\"data row4 col3\" >412.1673</td>\n",
       "      <td id=\"T_09815_row4_col4\" class=\"data row4 col4\" >0.8833</td>\n",
       "      <td id=\"T_09815_row4_col5\" class=\"data row4 col5\" >0.0509</td>\n",
       "      <td id=\"T_09815_row4_col6\" class=\"data row4 col6\" >0.0379</td>\n",
       "      <td id=\"T_09815_row4_col7\" class=\"data row4 col7\" >0.3640</td>\n",
       "    </tr>\n",
       "    <tr>\n",
       "      <th id=\"T_09815_level0_row5\" class=\"row_heading level0 row5\" >llar</th>\n",
       "      <td id=\"T_09815_row5_col0\" class=\"data row5 col0\" >Lasso Least Angle Regression</td>\n",
       "      <td id=\"T_09815_row5_col1\" class=\"data row5 col1\" >289.7314</td>\n",
       "      <td id=\"T_09815_row5_col2\" class=\"data row5 col2\" >171166.8900</td>\n",
       "      <td id=\"T_09815_row5_col3\" class=\"data row5 col3\" >412.1673</td>\n",
       "      <td id=\"T_09815_row5_col4\" class=\"data row5 col4\" >0.8833</td>\n",
       "      <td id=\"T_09815_row5_col5\" class=\"data row5 col5\" >0.0509</td>\n",
       "      <td id=\"T_09815_row5_col6\" class=\"data row5 col6\" >0.0379</td>\n",
       "      <td id=\"T_09815_row5_col7\" class=\"data row5 col7\" >0.0060</td>\n",
       "    </tr>\n",
       "    <tr>\n",
       "      <th id=\"T_09815_level0_row6\" class=\"row_heading level0 row6\" >br</th>\n",
       "      <td id=\"T_09815_row6_col0\" class=\"data row6 col0\" >Bayesian Ridge</td>\n",
       "      <td id=\"T_09815_row6_col1\" class=\"data row6 col1\" >289.7406</td>\n",
       "      <td id=\"T_09815_row6_col2\" class=\"data row6 col2\" >171173.9603</td>\n",
       "      <td id=\"T_09815_row6_col3\" class=\"data row6 col3\" >412.1764</td>\n",
       "      <td id=\"T_09815_row6_col4\" class=\"data row6 col4\" >0.8833</td>\n",
       "      <td id=\"T_09815_row6_col5\" class=\"data row6 col5\" >0.0509</td>\n",
       "      <td id=\"T_09815_row6_col6\" class=\"data row6 col6\" >0.0379</td>\n",
       "      <td id=\"T_09815_row6_col7\" class=\"data row6 col7\" >0.0080</td>\n",
       "    </tr>\n",
       "    <tr>\n",
       "      <th id=\"T_09815_level0_row7\" class=\"row_heading level0 row7\" >ridge</th>\n",
       "      <td id=\"T_09815_row7_col0\" class=\"data row7 col0\" >Ridge Regression</td>\n",
       "      <td id=\"T_09815_row7_col1\" class=\"data row7 col1\" >289.7734</td>\n",
       "      <td id=\"T_09815_row7_col2\" class=\"data row7 col2\" >171197.1594</td>\n",
       "      <td id=\"T_09815_row7_col3\" class=\"data row7 col3\" >412.2015</td>\n",
       "      <td id=\"T_09815_row7_col4\" class=\"data row7 col4\" >0.8833</td>\n",
       "      <td id=\"T_09815_row7_col5\" class=\"data row7 col5\" >0.0509</td>\n",
       "      <td id=\"T_09815_row7_col6\" class=\"data row7 col6\" >0.0379</td>\n",
       "      <td id=\"T_09815_row7_col7\" class=\"data row7 col7\" >0.3640</td>\n",
       "    </tr>\n",
       "    <tr>\n",
       "      <th id=\"T_09815_level0_row8\" class=\"row_heading level0 row8\" >lr</th>\n",
       "      <td id=\"T_09815_row8_col0\" class=\"data row8 col0\" >Linear Regression</td>\n",
       "      <td id=\"T_09815_row8_col1\" class=\"data row8 col1\" >289.7735</td>\n",
       "      <td id=\"T_09815_row8_col2\" class=\"data row8 col2\" >171197.2099</td>\n",
       "      <td id=\"T_09815_row8_col3\" class=\"data row8 col3\" >412.2016</td>\n",
       "      <td id=\"T_09815_row8_col4\" class=\"data row8 col4\" >0.8833</td>\n",
       "      <td id=\"T_09815_row8_col5\" class=\"data row8 col5\" >0.0509</td>\n",
       "      <td id=\"T_09815_row8_col6\" class=\"data row8 col6\" >0.0379</td>\n",
       "      <td id=\"T_09815_row8_col7\" class=\"data row8 col7\" >0.4700</td>\n",
       "    </tr>\n",
       "    <tr>\n",
       "      <th id=\"T_09815_level0_row9\" class=\"row_heading level0 row9\" >lar</th>\n",
       "      <td id=\"T_09815_row9_col0\" class=\"data row9 col0\" >Least Angle Regression</td>\n",
       "      <td id=\"T_09815_row9_col1\" class=\"data row9 col1\" >289.7735</td>\n",
       "      <td id=\"T_09815_row9_col2\" class=\"data row9 col2\" >171197.2357</td>\n",
       "      <td id=\"T_09815_row9_col3\" class=\"data row9 col3\" >412.2016</td>\n",
       "      <td id=\"T_09815_row9_col4\" class=\"data row9 col4\" >0.8833</td>\n",
       "      <td id=\"T_09815_row9_col5\" class=\"data row9 col5\" >0.0509</td>\n",
       "      <td id=\"T_09815_row9_col6\" class=\"data row9 col6\" >0.0379</td>\n",
       "      <td id=\"T_09815_row9_col7\" class=\"data row9 col7\" >0.0080</td>\n",
       "    </tr>\n",
       "    <tr>\n",
       "      <th id=\"T_09815_level0_row10\" class=\"row_heading level0 row10\" >lightgbm</th>\n",
       "      <td id=\"T_09815_row10_col0\" class=\"data row10 col0\" >Light Gradient Boosting Machine</td>\n",
       "      <td id=\"T_09815_row10_col1\" class=\"data row10 col1\" >294.1489</td>\n",
       "      <td id=\"T_09815_row10_col2\" class=\"data row10 col2\" >166632.3346</td>\n",
       "      <td id=\"T_09815_row10_col3\" class=\"data row10 col3\" >408.1096</td>\n",
       "      <td id=\"T_09815_row10_col4\" class=\"data row10 col4\" >0.8862</td>\n",
       "      <td id=\"T_09815_row10_col5\" class=\"data row10 col5\" >0.0517</td>\n",
       "      <td id=\"T_09815_row10_col6\" class=\"data row10 col6\" >0.0386</td>\n",
       "      <td id=\"T_09815_row10_col7\" class=\"data row10 col7\" >0.0840</td>\n",
       "    </tr>\n",
       "    <tr>\n",
       "      <th id=\"T_09815_level0_row11\" class=\"row_heading level0 row11\" >knn</th>\n",
       "      <td id=\"T_09815_row11_col0\" class=\"data row11 col0\" >K Neighbors Regressor</td>\n",
       "      <td id=\"T_09815_row11_col1\" class=\"data row11 col1\" >311.4869</td>\n",
       "      <td id=\"T_09815_row11_col2\" class=\"data row11 col2\" >188752.9501</td>\n",
       "      <td id=\"T_09815_row11_col3\" class=\"data row11 col3\" >434.1121</td>\n",
       "      <td id=\"T_09815_row11_col4\" class=\"data row11 col4\" >0.8711</td>\n",
       "      <td id=\"T_09815_row11_col5\" class=\"data row11 col5\" >0.0552</td>\n",
       "      <td id=\"T_09815_row11_col6\" class=\"data row11 col6\" >0.0410</td>\n",
       "      <td id=\"T_09815_row11_col7\" class=\"data row11 col7\" >0.0100</td>\n",
       "    </tr>\n",
       "    <tr>\n",
       "      <th id=\"T_09815_level0_row12\" class=\"row_heading level0 row12\" >rf</th>\n",
       "      <td id=\"T_09815_row12_col0\" class=\"data row12 col0\" >Random Forest Regressor</td>\n",
       "      <td id=\"T_09815_row12_col1\" class=\"data row12 col1\" >312.2666</td>\n",
       "      <td id=\"T_09815_row12_col2\" class=\"data row12 col2\" >185282.6713</td>\n",
       "      <td id=\"T_09815_row12_col3\" class=\"data row12 col3\" >430.3917</td>\n",
       "      <td id=\"T_09815_row12_col4\" class=\"data row12 col4\" >0.8734</td>\n",
       "      <td id=\"T_09815_row12_col5\" class=\"data row12 col5\" >0.0548</td>\n",
       "      <td id=\"T_09815_row12_col6\" class=\"data row12 col6\" >0.0412</td>\n",
       "      <td id=\"T_09815_row12_col7\" class=\"data row12 col7\" >0.0860</td>\n",
       "    </tr>\n",
       "    <tr>\n",
       "      <th id=\"T_09815_level0_row13\" class=\"row_heading level0 row13\" >et</th>\n",
       "      <td id=\"T_09815_row13_col0\" class=\"data row13 col0\" >Extra Trees Regressor</td>\n",
       "      <td id=\"T_09815_row13_col1\" class=\"data row13 col1\" >329.5501</td>\n",
       "      <td id=\"T_09815_row13_col2\" class=\"data row13 col2\" >209597.9617</td>\n",
       "      <td id=\"T_09815_row13_col3\" class=\"data row13 col3\" >457.8013</td>\n",
       "      <td id=\"T_09815_row13_col4\" class=\"data row13 col4\" >0.8568</td>\n",
       "      <td id=\"T_09815_row13_col5\" class=\"data row13 col5\" >0.0583</td>\n",
       "      <td id=\"T_09815_row13_col6\" class=\"data row13 col6\" >0.0435</td>\n",
       "      <td id=\"T_09815_row13_col7\" class=\"data row13 col7\" >0.0600</td>\n",
       "    </tr>\n",
       "    <tr>\n",
       "      <th id=\"T_09815_level0_row14\" class=\"row_heading level0 row14\" >ada</th>\n",
       "      <td id=\"T_09815_row14_col0\" class=\"data row14 col0\" >AdaBoost Regressor</td>\n",
       "      <td id=\"T_09815_row14_col1\" class=\"data row14 col1\" >381.0138</td>\n",
       "      <td id=\"T_09815_row14_col2\" class=\"data row14 col2\" >226996.2819</td>\n",
       "      <td id=\"T_09815_row14_col3\" class=\"data row14 col3\" >476.2659</td>\n",
       "      <td id=\"T_09815_row14_col4\" class=\"data row14 col4\" >0.8448</td>\n",
       "      <td id=\"T_09815_row14_col5\" class=\"data row14 col5\" >0.0630</td>\n",
       "      <td id=\"T_09815_row14_col6\" class=\"data row14 col6\" >0.0524</td>\n",
       "      <td id=\"T_09815_row14_col7\" class=\"data row14 col7\" >0.0240</td>\n",
       "    </tr>\n",
       "    <tr>\n",
       "      <th id=\"T_09815_level0_row15\" class=\"row_heading level0 row15\" >dt</th>\n",
       "      <td id=\"T_09815_row15_col0\" class=\"data row15 col0\" >Decision Tree Regressor</td>\n",
       "      <td id=\"T_09815_row15_col1\" class=\"data row15 col1\" >395.8148</td>\n",
       "      <td id=\"T_09815_row15_col2\" class=\"data row15 col2\" >304607.3316</td>\n",
       "      <td id=\"T_09815_row15_col3\" class=\"data row15 col3\" >551.8066</td>\n",
       "      <td id=\"T_09815_row15_col4\" class=\"data row15 col4\" >0.7920</td>\n",
       "      <td id=\"T_09815_row15_col5\" class=\"data row15 col5\" >0.0701</td>\n",
       "      <td id=\"T_09815_row15_col6\" class=\"data row15 col6\" >0.0523</td>\n",
       "      <td id=\"T_09815_row15_col7\" class=\"data row15 col7\" >0.0080</td>\n",
       "    </tr>\n",
       "    <tr>\n",
       "      <th id=\"T_09815_level0_row16\" class=\"row_heading level0 row16\" >par</th>\n",
       "      <td id=\"T_09815_row16_col0\" class=\"data row16 col0\" >Passive Aggressive Regressor</td>\n",
       "      <td id=\"T_09815_row16_col1\" class=\"data row16 col1\" >561.3714</td>\n",
       "      <td id=\"T_09815_row16_col2\" class=\"data row16 col2\" >515866.5428</td>\n",
       "      <td id=\"T_09815_row16_col3\" class=\"data row16 col3\" >680.3029</td>\n",
       "      <td id=\"T_09815_row16_col4\" class=\"data row16 col4\" >0.6463</td>\n",
       "      <td id=\"T_09815_row16_col5\" class=\"data row16 col5\" >0.0875</td>\n",
       "      <td id=\"T_09815_row16_col6\" class=\"data row16 col6\" >0.0765</td>\n",
       "      <td id=\"T_09815_row16_col7\" class=\"data row16 col7\" >0.0080</td>\n",
       "    </tr>\n",
       "    <tr>\n",
       "      <th id=\"T_09815_level0_row17\" class=\"row_heading level0 row17\" >dummy</th>\n",
       "      <td id=\"T_09815_row17_col0\" class=\"data row17 col0\" >Dummy Regressor</td>\n",
       "      <td id=\"T_09815_row17_col1\" class=\"data row17 col1\" >953.7090</td>\n",
       "      <td id=\"T_09815_row17_col2\" class=\"data row17 col2\" >1464922.2383</td>\n",
       "      <td id=\"T_09815_row17_col3\" class=\"data row17 col3\" >1210.2534</td>\n",
       "      <td id=\"T_09815_row17_col4\" class=\"data row17 col4\" >-0.0002</td>\n",
       "      <td id=\"T_09815_row17_col5\" class=\"data row17 col5\" >0.1640</td>\n",
       "      <td id=\"T_09815_row17_col6\" class=\"data row17 col6\" >0.1330</td>\n",
       "      <td id=\"T_09815_row17_col7\" class=\"data row17 col7\" >0.0060</td>\n",
       "    </tr>\n",
       "  </tbody>\n",
       "</table>\n"
      ],
      "text/plain": [
       "<pandas.io.formats.style.Styler at 0x1e919562cd0>"
      ]
     },
     "metadata": {},
     "output_type": "display_data"
    },
    {
     "data": {
      "text/html": [],
      "text/plain": [
       "<IPython.core.display.HTML object>"
      ]
     },
     "metadata": {},
     "output_type": "display_data"
    },
    {
     "name": "stderr",
     "output_type": "stream",
     "text": [
      "c:\\Users\\impac\\miniconda3\\envs\\maraton_2023\\Lib\\site-packages\\pycaret\\internal\\pycaret_experiment\\supervised_experiment.py:339: FutureWarning: Styler.applymap has been deprecated. Use Styler.map instead.\n",
      "  .applymap(highlight_cols, subset=[\"TT (Sec)\"])\n"
     ]
    }
   ],
   "source": [
    "best_model = compare_models(sort='MAE')"
   ]
  },
  {
   "cell_type": "markdown",
   "id": "85cb33b3",
   "metadata": {},
   "source": [
    "📌 Tuning najlepszego modelu"
   ]
  },
  {
   "cell_type": "code",
   "execution_count": 43,
   "id": "8477c8fd",
   "metadata": {},
   "outputs": [
    {
     "data": {
      "text/html": [],
      "text/plain": [
       "<IPython.core.display.HTML object>"
      ]
     },
     "metadata": {},
     "output_type": "display_data"
    },
    {
     "data": {
      "text/html": [
       "<style type=\"text/css\">\n",
       "#T_fc675_row5_col0, #T_fc675_row5_col1, #T_fc675_row5_col2, #T_fc675_row5_col3, #T_fc675_row5_col4, #T_fc675_row5_col5 {\n",
       "  background: yellow;\n",
       "}\n",
       "</style>\n",
       "<table id=\"T_fc675\">\n",
       "  <thead>\n",
       "    <tr>\n",
       "      <th class=\"blank level0\" >&nbsp;</th>\n",
       "      <th id=\"T_fc675_level0_col0\" class=\"col_heading level0 col0\" >MAE</th>\n",
       "      <th id=\"T_fc675_level0_col1\" class=\"col_heading level0 col1\" >MSE</th>\n",
       "      <th id=\"T_fc675_level0_col2\" class=\"col_heading level0 col2\" >RMSE</th>\n",
       "      <th id=\"T_fc675_level0_col3\" class=\"col_heading level0 col3\" >R2</th>\n",
       "      <th id=\"T_fc675_level0_col4\" class=\"col_heading level0 col4\" >RMSLE</th>\n",
       "      <th id=\"T_fc675_level0_col5\" class=\"col_heading level0 col5\" >MAPE</th>\n",
       "    </tr>\n",
       "    <tr>\n",
       "      <th class=\"index_name level0\" >Fold</th>\n",
       "      <th class=\"blank col0\" >&nbsp;</th>\n",
       "      <th class=\"blank col1\" >&nbsp;</th>\n",
       "      <th class=\"blank col2\" >&nbsp;</th>\n",
       "      <th class=\"blank col3\" >&nbsp;</th>\n",
       "      <th class=\"blank col4\" >&nbsp;</th>\n",
       "      <th class=\"blank col5\" >&nbsp;</th>\n",
       "    </tr>\n",
       "  </thead>\n",
       "  <tbody>\n",
       "    <tr>\n",
       "      <th id=\"T_fc675_level0_row0\" class=\"row_heading level0 row0\" >0</th>\n",
       "      <td id=\"T_fc675_row0_col0\" class=\"data row0 col0\" >267.0011</td>\n",
       "      <td id=\"T_fc675_row0_col1\" class=\"data row0 col1\" >145025.8844</td>\n",
       "      <td id=\"T_fc675_row0_col2\" class=\"data row0 col2\" >380.8226</td>\n",
       "      <td id=\"T_fc675_row0_col3\" class=\"data row0 col3\" >0.9029</td>\n",
       "      <td id=\"T_fc675_row0_col4\" class=\"data row0 col4\" >0.0481</td>\n",
       "      <td id=\"T_fc675_row0_col5\" class=\"data row0 col5\" >0.0350</td>\n",
       "    </tr>\n",
       "    <tr>\n",
       "      <th id=\"T_fc675_level0_row1\" class=\"row_heading level0 row1\" >1</th>\n",
       "      <td id=\"T_fc675_row1_col0\" class=\"data row1 col0\" >286.7604</td>\n",
       "      <td id=\"T_fc675_row1_col1\" class=\"data row1 col1\" >162119.6130</td>\n",
       "      <td id=\"T_fc675_row1_col2\" class=\"data row1 col2\" >402.6408</td>\n",
       "      <td id=\"T_fc675_row1_col3\" class=\"data row1 col3\" >0.8854</td>\n",
       "      <td id=\"T_fc675_row1_col4\" class=\"data row1 col4\" >0.0507</td>\n",
       "      <td id=\"T_fc675_row1_col5\" class=\"data row1 col5\" >0.0372</td>\n",
       "    </tr>\n",
       "    <tr>\n",
       "      <th id=\"T_fc675_level0_row2\" class=\"row_heading level0 row2\" >2</th>\n",
       "      <td id=\"T_fc675_row2_col0\" class=\"data row2 col0\" >282.0196</td>\n",
       "      <td id=\"T_fc675_row2_col1\" class=\"data row2 col1\" >171910.2644</td>\n",
       "      <td id=\"T_fc675_row2_col2\" class=\"data row2 col2\" >414.6206</td>\n",
       "      <td id=\"T_fc675_row2_col3\" class=\"data row2 col3\" >0.8846</td>\n",
       "      <td id=\"T_fc675_row2_col4\" class=\"data row2 col4\" >0.0523</td>\n",
       "      <td id=\"T_fc675_row2_col5\" class=\"data row2 col5\" >0.0365</td>\n",
       "    </tr>\n",
       "    <tr>\n",
       "      <th id=\"T_fc675_level0_row3\" class=\"row_heading level0 row3\" >3</th>\n",
       "      <td id=\"T_fc675_row3_col0\" class=\"data row3 col0\" >302.1345</td>\n",
       "      <td id=\"T_fc675_row3_col1\" class=\"data row3 col1\" >229935.6702</td>\n",
       "      <td id=\"T_fc675_row3_col2\" class=\"data row3 col2\" >479.5161</td>\n",
       "      <td id=\"T_fc675_row3_col3\" class=\"data row3 col3\" >0.8463</td>\n",
       "      <td id=\"T_fc675_row3_col4\" class=\"data row3 col4\" >0.0551</td>\n",
       "      <td id=\"T_fc675_row3_col5\" class=\"data row3 col5\" >0.0390</td>\n",
       "    </tr>\n",
       "    <tr>\n",
       "      <th id=\"T_fc675_level0_row4\" class=\"row_heading level0 row4\" >4</th>\n",
       "      <td id=\"T_fc675_row4_col0\" class=\"data row4 col0\" >287.7855</td>\n",
       "      <td id=\"T_fc675_row4_col1\" class=\"data row4 col1\" >159475.2383</td>\n",
       "      <td id=\"T_fc675_row4_col2\" class=\"data row4 col2\" >399.3435</td>\n",
       "      <td id=\"T_fc675_row4_col3\" class=\"data row4 col3\" >0.8884</td>\n",
       "      <td id=\"T_fc675_row4_col4\" class=\"data row4 col4\" >0.0501</td>\n",
       "      <td id=\"T_fc675_row4_col5\" class=\"data row4 col5\" >0.0374</td>\n",
       "    </tr>\n",
       "    <tr>\n",
       "      <th id=\"T_fc675_level0_row5\" class=\"row_heading level0 row5\" >Mean</th>\n",
       "      <td id=\"T_fc675_row5_col0\" class=\"data row5 col0\" >285.1402</td>\n",
       "      <td id=\"T_fc675_row5_col1\" class=\"data row5 col1\" >173693.3340</td>\n",
       "      <td id=\"T_fc675_row5_col2\" class=\"data row5 col2\" >415.3887</td>\n",
       "      <td id=\"T_fc675_row5_col3\" class=\"data row5 col3\" >0.8815</td>\n",
       "      <td id=\"T_fc675_row5_col4\" class=\"data row5 col4\" >0.0512</td>\n",
       "      <td id=\"T_fc675_row5_col5\" class=\"data row5 col5\" >0.0370</td>\n",
       "    </tr>\n",
       "    <tr>\n",
       "      <th id=\"T_fc675_level0_row6\" class=\"row_heading level0 row6\" >Std</th>\n",
       "      <td id=\"T_fc675_row6_col0\" class=\"data row6 col0\" >11.2889</td>\n",
       "      <td id=\"T_fc675_row6_col1\" class=\"data row6 col1\" >29408.5282</td>\n",
       "      <td id=\"T_fc675_row6_col2\" class=\"data row6 col2\" >33.8458</td>\n",
       "      <td id=\"T_fc675_row6_col3\" class=\"data row6 col3\" >0.0188</td>\n",
       "      <td id=\"T_fc675_row6_col4\" class=\"data row6 col4\" >0.0024</td>\n",
       "      <td id=\"T_fc675_row6_col5\" class=\"data row6 col5\" >0.0013</td>\n",
       "    </tr>\n",
       "  </tbody>\n",
       "</table>\n"
      ],
      "text/plain": [
       "<pandas.io.formats.style.Styler at 0x1e9186545d0>"
      ]
     },
     "metadata": {},
     "output_type": "display_data"
    },
    {
     "data": {
      "text/html": [],
      "text/plain": [
       "<IPython.core.display.HTML object>"
      ]
     },
     "metadata": {},
     "output_type": "display_data"
    },
    {
     "name": "stdout",
     "output_type": "stream",
     "text": [
      "Fitting 5 folds for each of 50 candidates, totalling 250 fits\n"
     ]
    }
   ],
   "source": [
    "tuned_model = tune_model(best_model, n_iter=50, optimize='MAE')"
   ]
  },
  {
   "cell_type": "markdown",
   "id": "132c2413",
   "metadata": {},
   "source": [
    "📌 Finalizacja (zapisuje model z całego datasetu)"
   ]
  },
  {
   "cell_type": "code",
   "execution_count": 44,
   "id": "cac55292",
   "metadata": {},
   "outputs": [],
   "source": [
    "final_model = finalize_model(tuned_model)"
   ]
  },
  {
   "cell_type": "markdown",
   "id": "408a6a34",
   "metadata": {},
   "source": [
    "📌 Zapis i upload"
   ]
  },
  {
   "cell_type": "code",
   "execution_count": 45,
   "id": "4fec5daf",
   "metadata": {},
   "outputs": [
    {
     "name": "stdout",
     "output_type": "stream",
     "text": [
      "Transformation Pipeline and Model Successfully Saved\n"
     ]
    }
   ],
   "source": [
    "save_model(final_model, 'model_pycaret')\n",
    "with open('model_pycaret.pkl', 'rb') as f:\n",
    "    s3.upload_fileobj(f, BUCKET_NAME, 'model_pycaret.pkl')"
   ]
  }
 ],
 "metadata": {
  "kernelspec": {
   "display_name": "app_maraton",
   "language": "python",
   "name": "python3"
  },
  "language_info": {
   "codemirror_mode": {
    "name": "ipython",
    "version": 3
   },
   "file_extension": ".py",
   "mimetype": "text/x-python",
   "name": "python",
   "nbconvert_exporter": "python",
   "pygments_lexer": "ipython3",
   "version": "3.11.13"
  }
 },
 "nbformat": 4,
 "nbformat_minor": 5
}
